{
  "nbformat": 4,
  "nbformat_minor": 0,
  "metadata": {
    "colab": {
      "provenance": []
    },
    "kernelspec": {
      "name": "python3",
      "display_name": "Python 3"
    },
    "language_info": {
      "name": "python"
    }
  },
  "cells": [
    {
      "cell_type": "code",
      "execution_count": null,
      "metadata": {
        "id": "gEMhlzQrFn5_"
      },
      "outputs": [],
      "source": [
        "# 定義六味地黃丸的資料\n",
        "prescription = {\n",
        "    '名稱': '補中益氣《丸》',\n",
        "    '出典': '脾胃論',\n",
        "    '處方': {\n",
        "        '黃耆': 6,  # 公克\n",
        "        '人參': 4,\n",
        "        '白朮': 2,\n",
        "        '炙甘草': 4,\n",
        "        '當歸': 2,\n",
        "        '陳皮': 2,\n",
        "        '升麻': 1,\n",
        "        '柴胡': 1,\n",
        "        '生薑': 3,\n",
        "        '大棗': 2\n",
        "    },\n",
        "    '效能': '補中益氣、調補脾胃',\n",
        "    '適應症': ['勞倦','食少無味','脾胃虛弱','元氣不足']\n",
        "}\n",
        "\n",
        "# 使用 while 迴圈提供查詢服務\n",
        "while True:\n",
        "    query = input(\"\\n您想查詢什麼？(藥方名稱/出典/處方/效能/適應症/退出查詢)：\")\n",
        "\n",
        "    if query == \"藥方名稱\":\n",
        "        print(f\"{prescription['名稱']}\")\n",
        "    elif query == \"出典\":\n",
        "        print(f\"{prescription['名稱']}的出典為:{prescription['出典']}\")\n",
        "    elif query == \"適應症\":\n",
        "        print(f\"{prescription['名稱']}的適應症有:\")\n",
        "        for symptom in prescription['適應症']:\n",
        "            print(symptom)\n",
        "    elif query == \"處方\":\n",
        "        total_weight = sum(prescription['處方'].values())\n",
        "        print(f\"{prescription['名稱']}的處方為:\")\n",
        "        for medicine, weight in prescription['處方'].items():\n",
        "            print(f\"{medicine}：{weight}公克\")\n",
        "        print(f\"總克數為：{total_weight}公克\")\n",
        "    elif query == \"效能\":\n",
        "        print(f\"{prescription['名稱']}的效能是:{prescription['效能']}\")\n",
        "    elif query == \"退出查詢\":\n",
        "        print(\"感謝使用，再見！\")\n",
        "        break\n",
        "    else:\n",
        "        print(\"輸入無效，請重新輸入。\")"
      ]
    }
  ]
}